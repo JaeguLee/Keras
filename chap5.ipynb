{
 "metadata": {
  "language_info": {
   "codemirror_mode": {
    "name": "ipython",
    "version": 3
   },
   "file_extension": ".py",
   "mimetype": "text/x-python",
   "name": "python",
   "nbconvert_exporter": "python",
   "pygments_lexer": "ipython3",
   "version": "3.7.10-final"
  },
  "orig_nbformat": 2,
  "kernelspec": {
   "name": "python3",
   "display_name": "Python 3.7.10 64-bit ('pyMAC')",
   "metadata": {
    "interpreter": {
     "hash": "7391aba18e96c534f1444757e5e0b4a8ecceba7098b38e6ef1fbecea10252e82"
    }
   }
  }
 },
 "nbformat": 4,
 "nbformat_minor": 2,
 "cells": [
  {
   "cell_type": "code",
   "execution_count": 9,
   "metadata": {},
   "outputs": [],
   "source": [
    "# Dogs vs. dogs dataset\n",
    "# 훈련, 검증, 테스트 폴더로 이미지 복사하기\n",
    "\n",
    "import os, shutil\n",
    "\n",
    "original_dataset_dir = \"./datasets/cats_and_dogs/train\"\n",
    "\n",
    "base_dir = \"./datasets/cats_and_dogs_small\"\n",
    "train_dir = os.path.join(base_dir,\"train\")\n",
    "validation_dir = os.path.join(base_dir,\"validation\")\n",
    "test_dir = os.path.join(base_dir,\"test\")"
   ]
  },
  {
   "cell_type": "code",
   "execution_count": 10,
   "metadata": {},
   "outputs": [],
   "source": [
    "# init dirs\n",
    "shutil.rmtree(base_dir)"
   ]
  },
  {
   "cell_type": "code",
   "execution_count": 11,
   "metadata": {},
   "outputs": [],
   "source": [
    "os.mkdir(base_dir)\n",
    "os.mkdir(train_dir)\n",
    "os.mkdir(validation_dir)\n",
    "os.mkdir(test_dir)\n",
    "\n",
    "train_cats_dir = os.path.join(train_dir,\"cats\")\n",
    "train_dogs_dir = os.path.join(train_dir,\"dogs\")\n",
    "os.mkdir(train_cats_dir)\n",
    "os.mkdir(train_dogs_dir)\n",
    "\n",
    "validation_cats_dir = os.path.join(validation_dir,\"cats\")\n",
    "validation_dogs_dir = os.path.join(validation_dir,\"dogs\")\n",
    "os.mkdir(validation_cats_dir)\n",
    "os.mkdir(validation_dogs_dir)\n",
    "\n",
    "test_cats_dir = os.path.join(test_dir,\"cats\")\n",
    "test_dogs_dir = os.path.join(test_dir,\"dogs\")\n",
    "os.mkdir(test_cats_dir)\n",
    "os.mkdir(test_dogs_dir)\n",
    "\n",
    "# Cats\n",
    "#.. train data\n",
    "fnames:list = [\"cat.{}.jpg\".format(i) for i in range(1000)]\n",
    "for fname in fnames:\n",
    "    src = os.path.join(original_dataset_dir, fname)\n",
    "    dst = os.path.join(train_cats_dir, fname)\n",
    "    shutil.copyfile(src, dst)\n",
    "\n",
    "#.. validation data\n",
    "fnames:list = [\"cat.{}.jpg\".format(i) for i in range(1000,1500)]\n",
    "for fname in fnames:\n",
    "    src = os.path.join(original_dataset_dir,fname)\n",
    "    dst = os.path.join(validation_cats_dir,fname)\n",
    "    shutil.copyfile(src, dst)\n",
    "\n",
    "#.. test data\n",
    "fnames:list = [\"cat.{}.jpg\".format(i) for i in range(1500,2000)]\n",
    "for fname in fnames:\n",
    "    src = os.path.join(original_dataset_dir,fname)\n",
    "    dst = os.path.join(test_cats_dir,fname)\n",
    "    shutil.copyfile(src, dst)\n",
    "\n",
    "# Dogs\n",
    "#.. train data\n",
    "fnames:list = [\"dog.{}.jpg\".format(i) for i in range(1000)]\n",
    "for fname in fnames:\n",
    "    src = os.path.join(original_dataset_dir, fname)\n",
    "    dst = os.path.join(train_dogs_dir, fname)\n",
    "    shutil.copyfile(src, dst)\n",
    "\n",
    "#.. validation data\n",
    "fnames:list = [\"dog.{}.jpg\".format(i) for i in range(1000,1500)]\n",
    "for fname in fnames:\n",
    "    src = os.path.join(original_dataset_dir,fname)\n",
    "    dst = os.path.join(validation_dogs_dir,fname)\n",
    "    shutil.copyfile(src, dst)\n",
    "\n",
    "#.. test data\n",
    "fnames:list = [\"dog.{}.jpg\".format(i) for i in range(1500,2000)]\n",
    "for fname in fnames:\n",
    "    src = os.path.join(original_dataset_dir,fname)\n",
    "    dst = os.path.join(test_dogs_dir,fname)\n",
    "    shutil.copyfile(src, dst)\n"
   ]
  },
  {
   "cell_type": "code",
   "execution_count": 12,
   "metadata": {},
   "outputs": [
    {
     "output_type": "stream",
     "name": "stdout",
     "text": [
      "total quantity of cats for training images : 1000\ntotal quantity of dogs for training images : 1000\n"
     ]
    }
   ],
   "source": [
    "# test\n",
    "print(f\"total quantity of cats for training images : {len(os.listdir(train_cats_dir))}\")\n",
    "print(f\"total quantity of dogs for training images : {len(os.listdir(train_dogs_dir))}\")"
   ]
  },
  {
   "cell_type": "code",
   "execution_count": null,
   "metadata": {},
   "outputs": [],
   "source": [
    "# 5.2.3 network 구성\n",
    "#.. conv net 만들기\n",
    "\n",
    "from keras import layers\n",
    "from keras import models\n",
    "\n",
    "model = models.Sequential()\n",
    "model.add(\n",
    "    layers.Conv2D(32,(3,3), activation=\"relu\",\n",
    "    input_shape=(150,150,3))\n",
    ")"
   ]
  }
 ]
}